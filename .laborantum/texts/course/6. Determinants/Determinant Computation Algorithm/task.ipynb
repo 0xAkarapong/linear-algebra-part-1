{
 "cells": [
  {
   "cell_type": "markdown",
   "metadata": {},
   "source": [
    "# Determinant Computation Algorithm\n",
    "\n",
    "Write a function that accepts a matrix in form of numpy array and calculates its determinant in the most efficient way (the algorithm will be tested on large matrices).\n",
    "\n",
    "Use vectorized `numpy` operations.\n",
    "\n",
    "You are allowed to use `numpy.linalg`"
   ]
  },
  {
   "cell_type": "code",
   "execution_count": 7,
   "metadata": {},
   "outputs": [],
   "source": [
    "import numpy as np\n",
    "import json_tricks\n",
    "import scipy"
   ]
  },
  {
   "cell_type": "code",
   "execution_count": 8,
   "metadata": {},
   "outputs": [],
   "source": [
    "\n",
    "def determinant_fast(A):\n",
    "    lu, piv = scipy.linalg.lu_factor(A)\n",
    "    det = np.prod(np.diag(lu)) * (-1.0) ** (np.sum(piv != np.arange(A.shape[0])))\n",
    "    det = np.array(det, dtype=np.float64)\n",
    "    pivots = piv.astype(np.float64)\n",
    "    return det, pivots"
   ]
  },
  {
   "cell_type": "code",
   "execution_count": 9,
   "metadata": {},
   "outputs": [
    {
     "name": "stderr",
     "output_type": "stream",
     "text": [
      "/tmp/ipykernel_1434/3939996944.py:2: LinAlgWarning: Diagonal number 2 is exactly zero. Singular matrix.\n",
      "  lu, piv = scipy.linalg.lu_factor(A)\n",
      "/tmp/ipykernel_1434/3939996944.py:2: LinAlgWarning: Diagonal number 1 is exactly zero. Singular matrix.\n",
      "  lu, piv = scipy.linalg.lu_factor(A)\n",
      "/tmp/ipykernel_1434/3939996944.py:2: LinAlgWarning: Diagonal number 11 is exactly zero. Singular matrix.\n",
      "  lu, piv = scipy.linalg.lu_factor(A)\n",
      "/tmp/ipykernel_1434/3939996944.py:2: LinAlgWarning: Diagonal number 7 is exactly zero. Singular matrix.\n",
      "  lu, piv = scipy.linalg.lu_factor(A)\n",
      "/tmp/ipykernel_1434/3939996944.py:2: LinAlgWarning: Diagonal number 8 is exactly zero. Singular matrix.\n",
      "  lu, piv = scipy.linalg.lu_factor(A)\n",
      "/tmp/ipykernel_1434/3939996944.py:2: LinAlgWarning: Diagonal number 9 is exactly zero. Singular matrix.\n",
      "  lu, piv = scipy.linalg.lu_factor(A)\n",
      "/tmp/ipykernel_1434/3939996944.py:2: LinAlgWarning: Diagonal number 4 is exactly zero. Singular matrix.\n",
      "  lu, piv = scipy.linalg.lu_factor(A)\n",
      "/tmp/ipykernel_1434/3939996944.py:2: LinAlgWarning: Diagonal number 3 is exactly zero. Singular matrix.\n",
      "  lu, piv = scipy.linalg.lu_factor(A)\n",
      "/tmp/ipykernel_1434/3939996944.py:2: LinAlgWarning: Diagonal number 10 is exactly zero. Singular matrix.\n",
      "  lu, piv = scipy.linalg.lu_factor(A)\n",
      "/tmp/ipykernel_1434/3939996944.py:2: LinAlgWarning: Diagonal number 6 is exactly zero. Singular matrix.\n",
      "  lu, piv = scipy.linalg.lu_factor(A)\n",
      "/tmp/ipykernel_1434/3939996944.py:2: LinAlgWarning: Diagonal number 5 is exactly zero. Singular matrix.\n",
      "  lu, piv = scipy.linalg.lu_factor(A)\n"
     ]
    },
    {
     "data": {
      "text/plain": [
       "'{\"results\": [[{\"__ndarray__\": -0.0, \"dtype\": \"float64\", \"shape\": []}, {\"__ndarray__\": [0.0, 1.0], \"dtype\": \"float64\", \"shape\": [2]}], [{\"__ndarray__\": 2.0, \"dtype\": \"float64\", \"shape\": []}, {\"__ndarray__\": [2.0, 3.0, 3.0, 4.0, 10.0, 7.0, 9.0, 7.0, 8.0, 9.0, 10.0], \"dtype\": \"float64\", \"shape\": [11]}], [{\"__ndarray__\": -373.0000000000003, \"dtype\": \"float64\", \"shape\": []}, {\"__ndarray__\": [2.0, 1.0, 8.0, 9.0, 10.0, 7.0, 6.0, 7.0, 9.0, 10.0, 12.0, 13.0, 15.0, 16.0, 14.0, 15.0, 16.0], \"dtype\": \"float64\", \"shape\": [17]}], [{\"__ndarray__\": -0.0, \"dtype\": \"float64\", \"shape\": []}, {\"__ndarray__\": [0.0, 1.0], \"dtype\": \"float64\", \"shape\": [2]}], [{\"__ndarray__\": -95.00000000000001, \"dtype\": \"float64\", \"shape\": []}, {\"__ndarray__\": [1.0, 2.0, 6.0, 7.0, 6.0, 9.0, 7.0, 7.0, 10.0, 9.0, 13.0, 13.0, 13.0, 13.0], \"dtype\": \"float64\", \"shape\": [14]}], [{\"__ndarray__\": 7.999999999999992, \"dtype\": \"float64\", \"shape\": []}, {\"__ndarray__\": [2.0, 3.0, 6.0, 3.0, 4.0, 9.0, 6.0, 13.0, 11.0, 10.0, 11.0, 12.0, 13.0, 13.0], \"dtype\": \"float64\", \"shape\": [14]}], [{\"__ndarray__\": 199.0, \"dtype\": \"float64\", \"shape\": []}, {\"__ndarray__\": [1.0, 3.0, 3.0, 3.0, 5.0, 11.0, 6.0, 7.0, 9.0, 9.0, 13.0, 11.0, 14.0, 14.0, 17.0, 16.0, 17.0, 17.0], \"dtype\": \"float64\", \"shape\": [18]}], [{\"__ndarray__\": 225.00000000000014, \"dtype\": \"float64\", \"shape\": []}, {\"__ndarray__\": [0.0, 5.0, 10.0, 5.0, 11.0, 7.0, 10.0, 13.0, 9.0, 12.0, 14.0, 11.0, 16.0, 16.0, 16.0, 15.0, 16.0], \"dtype\": \"float64\", \"shape\": [17]}], [{\"__ndarray__\": -6.0, \"dtype\": \"float64\", \"shape\": []}, {\"__ndarray__\": [1.0, 1.0, 5.0, 7.0, 4.0, 5.0, 6.0, 7.0], \"dtype\": \"float64\", \"shape\": [8]}], [{\"__ndarray__\": -756.0000000000002, \"dtype\": \"float64\", \"shape\": []}, {\"__ndarray__\": [0.0, 1.0, 5.0, 3.0, 4.0, 7.0, 14.0, 12.0, 9.0, 10.0, 10.0, 14.0, 12.0, 15.0, 15.0, 15.0], \"dtype\": \"float64\", \"shape\": [16]}], [{\"__ndarray__\": 379.0000000000001, \"dtype\": \"float64\", \"shape\": []}, {\"__ndarray__\": [1.0, 1.0, 3.0, 4.0, 7.0, 7.0, 6.0, 7.0, 14.0, 12.0, 10.0, 14.0, 13.0, 13.0, 15.0, 15.0], \"dtype\": \"float64\", \"shape\": [16]}], [{\"__ndarray__\": -6.000000000000001, \"dtype\": \"float64\", \"shape\": []}, {\"__ndarray__\": [0.0, 1.0, 2.0, 4.0, 4.0, 10.0, 8.0, 7.0, 8.0, 9.0, 10.0, 11.0], \"dtype\": \"float64\", \"shape\": [12]}], [{\"__ndarray__\": -5.0, \"dtype\": \"float64\", \"shape\": []}, {\"__ndarray__\": [2.0, 6.0, 2.0, 3.0, 9.0, 6.0, 6.0, 9.0, 10.0, 9.0, 10.0, 12.0, 12.0], \"dtype\": \"float64\", \"shape\": [13]}], [{\"__ndarray__\": 25.0, \"dtype\": \"float64\", \"shape\": []}, {\"__ndarray__\": [0.0, 1.0, 3.0, 11.0, 10.0, 9.0, 12.0, 9.0, 12.0, 12.0, 11.0, 11.0, 12.0], \"dtype\": \"float64\", \"shape\": [13]}], [{\"__ndarray__\": -0.0, \"dtype\": \"float64\", \"shape\": []}, {\"__ndarray__\": [2.0, 1.0, 3.0, 3.0], \"dtype\": \"float64\", \"shape\": [4]}], [{\"__ndarray__\": 18.0, \"dtype\": \"float64\", \"shape\": []}, {\"__ndarray__\": [1.0, 1.0, 3.0, 4.0, 5.0, 5.0, 7.0, 7.0, 8.0, 10.0, 11.0, 11.0, 12.0], \"dtype\": \"float64\", \"shape\": [13]}], [{\"__ndarray__\": -20.999999999999996, \"dtype\": \"float64\", \"shape\": []}, {\"__ndarray__\": [0.0, 1.0, 4.0, 5.0, 4.0, 5.0, 6.0, 8.0, 9.0, 9.0, 10.0], \"dtype\": \"float64\", \"shape\": [11]}], [{\"__ndarray__\": -8.00000000000001, \"dtype\": \"float64\", \"shape\": []}, {\"__ndarray__\": [0.0, 3.0, 2.0, 4.0, 10.0, 5.0, 8.0, 7.0, 12.0, 12.0, 10.0, 12.0, 12.0], \"dtype\": \"float64\", \"shape\": [13]}], [{\"__ndarray__\": -1.0, \"dtype\": \"float64\", \"shape\": []}, {\"__ndarray__\": [0.0, 1.0, 2.0, 3.0, 4.0, 5.0, 6.0], \"dtype\": \"float64\", \"shape\": [7]}], [{\"__ndarray__\": 148.0000000000001, \"dtype\": \"float64\", \"shape\": []}, {\"__ndarray__\": [1.0, 2.0, 3.0, 3.0, 8.0, 6.0, 8.0, 10.0, 11.0, 13.0, 16.0, 15.0, 13.0, 13.0, 14.0, 16.0, 16.0], \"dtype\": \"float64\", \"shape\": [17]}], [{\"__ndarray__\": 1.0, \"dtype\": \"float64\", \"shape\": []}, {\"__ndarray__\": [0.0, 1.0, 5.0, 3.0, 4.0, 5.0], \"dtype\": \"float64\", \"shape\": [6]}], [{\"__ndarray__\": 72.99999999999996, \"dtype\": \"float64\", \"shape\": []}, {\"__ndarray__\": [1.0, 4.0, 2.0, 3.0, 5.0, 9.0, 15.0, 9.0, 9.0, 10.0, 14.0, 15.0, 14.0, 14.0, 15.0, 15.0], \"dtype\": \"float64\", \"shape\": [16]}], [{\"__ndarray__\": 27.999999999999996, \"dtype\": \"float64\", \"shape\": []}, {\"__ndarray__\": [0.0, 1.0, 5.0, 4.0, 7.0, 5.0, 9.0, 7.0, 9.0, 10.0, 10.0], \"dtype\": \"float64\", \"shape\": [11]}], [{\"__ndarray__\": -1.0, \"dtype\": \"float64\", \"shape\": []}, {\"__ndarray__\": [0.0, 1.0, 3.0, 3.0, 5.0, 5.0], \"dtype\": \"float64\", \"shape\": [6]}], [{\"__ndarray__\": 0.9999999999999996, \"dtype\": \"float64\", \"shape\": []}, {\"__ndarray__\": [1.0, 1.0, 3.0, 3.0, 9.0, 9.0, 6.0, 9.0, 8.0, 9.0], \"dtype\": \"float64\", \"shape\": [10]}], [{\"__ndarray__\": -1.0, \"dtype\": \"float64\", \"shape\": []}, {\"__ndarray__\": [0.0], \"dtype\": \"float64\", \"shape\": [1]}], [{\"__ndarray__\": 148.99999999999994, \"dtype\": \"float64\", \"shape\": []}, {\"__ndarray__\": [0.0, 1.0, 8.0, 3.0, 11.0, 14.0, 6.0, 11.0, 12.0, 14.0, 14.0, 14.0, 13.0, 13.0, 14.0, 15.0], \"dtype\": \"float64\", \"shape\": [16]}], [{\"__ndarray__\": -1.0, \"dtype\": \"float64\", \"shape\": []}, {\"__ndarray__\": [0.0, 1.0, 2.0, 5.0, 4.0, 5.0], \"dtype\": \"float64\", \"shape\": [6]}], [{\"__ndarray__\": -5.0, \"dtype\": \"float64\", \"shape\": []}, {\"__ndarray__\": [0.0, 4.0, 2.0, 10.0, 10.0, 8.0, 9.0, 8.0, 12.0, 11.0, 12.0, 12.0, 12.0], \"dtype\": \"float64\", \"shape\": [13]}], [{\"__ndarray__\": 358.99999999999983, \"dtype\": \"float64\", \"shape\": []}, {\"__ndarray__\": [0.0, 1.0, 7.0, 5.0, 8.0, 8.0, 6.0, 13.0, 17.0, 9.0, 11.0, 11.0, 13.0, 17.0, 16.0, 17.0, 17.0, 17.0], \"dtype\": \"float64\", \"shape\": [18]}], [{\"__ndarray__\": -2.0, \"dtype\": \"float64\", \"shape\": []}, {\"__ndarray__\": [3.0, 1.0, 2.0, 3.0, 8.0, 8.0, 9.0, 9.0, 8.0, 9.0], \"dtype\": \"float64\", \"shape\": [10]}], [{\"__ndarray__\": 0.0, \"dtype\": \"float64\", \"shape\": []}, {\"__ndarray__\": [1.0, 4.0, 2.0, 3.0, 4.0, 5.0, 6.0, 7.0, 8.0, 9.0, 10.0], \"dtype\": \"float64\", \"shape\": [11]}], [{\"__ndarray__\": -2.999999999999998, \"dtype\": \"float64\", \"shape\": []}, {\"__ndarray__\": [0.0, 1.0, 4.0, 3.0, 10.0, 8.0, 9.0, 12.0, 9.0, 12.0, 11.0, 12.0, 12.0], \"dtype\": \"float64\", \"shape\": [13]}], [{\"__ndarray__\": -2.0, \"dtype\": \"float64\", \"shape\": []}, {\"__ndarray__\": [1.0, 1.0, 2.0, 5.0, 4.0, 6.0, 6.0, 7.0], \"dtype\": \"float64\", \"shape\": [8]}], [{\"__ndarray__\": 6.869504964868159e-15, \"dtype\": \"float64\", \"shape\": []}, {\"__ndarray__\": [4.0, 4.0, 2.0, 8.0, 9.0, 7.0, 12.0, 13.0, 8.0, 10.0, 11.0, 11.0, 12.0, 13.0], \"dtype\": \"float64\", \"shape\": [14]}], [{\"__ndarray__\": -1.0, \"dtype\": \"float64\", \"shape\": []}, {\"__ndarray__\": [0.0, 1.0, 2.0, 3.0, 4.0], \"dtype\": \"float64\", \"shape\": [5]}], [{\"__ndarray__\": 14.000000000000009, \"dtype\": \"float64\", \"shape\": []}, {\"__ndarray__\": [2.0, 1.0, 5.0, 4.0, 5.0, 6.0, 11.0, 13.0, 8.0, 13.0, 12.0, 11.0, 13.0, 13.0], \"dtype\": \"float64\", \"shape\": [14]}], [{\"__ndarray__\": 0.0, \"dtype\": \"float64\", \"shape\": []}, {\"__ndarray__\": [0.0, 2.0, 3.0, 4.0, 4.0, 5.0, 6.0], \"dtype\": \"float64\", \"shape\": [7]}], [{\"__ndarray__\": -2.0, \"dtype\": \"float64\", \"shape\": []}, {\"__ndarray__\": [2.0, 2.0, 4.0, 3.0, 5.0, 6.0, 6.0], \"dtype\": \"float64\", \"shape\": [7]}], [{\"__ndarray__\": -0.0, \"dtype\": \"float64\", \"shape\": []}, {\"__ndarray__\": [0.0, 1.0], \"dtype\": \"float64\", \"shape\": [2]}], [{\"__ndarray__\": 0.0, \"dtype\": \"float64\", \"shape\": []}, {\"__ndarray__\": [0.0], \"dtype\": \"float64\", \"shape\": [1]}], [{\"__ndarray__\": 13.0, \"dtype\": \"float64\", \"shape\": []}, {\"__ndarray__\": [0.0, 4.0, 5.0, 4.0, 5.0, 8.0, 8.0, 7.0, 12.0, 12.0, 10.0, 12.0, 12.0], \"dtype\": \"float64\", \"shape\": [13]}], [{\"__ndarray__\": -7793.999999999999, \"dtype\": \"float64\", \"shape\": []}, {\"__ndarray__\": [0.0, 2.0, 2.0, 12.0, 7.0, 6.0, 8.0, 10.0, 11.0, 14.0, 18.0, 14.0, 12.0, 13.0, 15.0, 18.0, 17.0, 17.0, 18.0], \"dtype\": \"float64\", \"shape\": [19]}], [{\"__ndarray__\": -1.0, \"dtype\": \"float64\", \"shape\": []}, {\"__ndarray__\": [0.0, 1.0, 2.0, 3.0, 4.0, 10.0, 9.0, 7.0, 8.0, 9.0, 10.0], \"dtype\": \"float64\", \"shape\": [11]}], [{\"__ndarray__\": -1.0, \"dtype\": \"float64\", \"shape\": []}, {\"__ndarray__\": [0.0], \"dtype\": \"float64\", \"shape\": [1]}], [{\"__ndarray__\": 0.0, \"dtype\": \"float64\", \"shape\": []}, {\"__ndarray__\": [0.0, 2.0, 2.0], \"dtype\": \"float64\", \"shape\": [3]}], [{\"__ndarray__\": -19.999999999999993, \"dtype\": \"float64\", \"shape\": []}, {\"__ndarray__\": [1.0, 1.0, 2.0, 4.0, 5.0, 5.0, 8.0, 9.0, 11.0, 9.0, 11.0, 11.0], \"dtype\": \"float64\", \"shape\": [12]}], [{\"__ndarray__\": 0.0, \"dtype\": \"float64\", \"shape\": []}, {\"__ndarray__\": [2.0, 3.0, 3.0, 4.0, 7.0, 7.0, 6.0, 7.0], \"dtype\": \"float64\", \"shape\": [8]}], [{\"__ndarray__\": 0.0, \"dtype\": \"float64\", \"shape\": []}, {\"__ndarray__\": [5.0, 3.0, 4.0, 3.0, 4.0, 6.0, 7.0, 7.0], \"dtype\": \"float64\", \"shape\": [8]}], [{\"__ndarray__\": 1.0, \"dtype\": \"float64\", \"shape\": []}, {\"__ndarray__\": [1.0, 1.0, 2.0], \"dtype\": \"float64\", \"shape\": [3]}], [{\"__ndarray__\": -8.000000000000014, \"dtype\": \"float64\", \"shape\": []}, {\"__ndarray__\": [0.0, 2.0, 6.0, 5.0, 4.0, 9.0, 11.0, 9.0, 8.0, 9.0, 10.0, 11.0], \"dtype\": \"float64\", \"shape\": [12]}], [{\"__ndarray__\": -4.0, \"dtype\": \"float64\", \"shape\": []}, {\"__ndarray__\": [0.0, 2.0, 3.0, 4.0, 7.0, 5.0, 6.0, 7.0, 8.0, 9.0, 10.0], \"dtype\": \"float64\", \"shape\": [11]}], [{\"__ndarray__\": -0.0, \"dtype\": \"float64\", \"shape\": []}, {\"__ndarray__\": [1.0, 3.0, 2.0, 3.0, 4.0, 7.0, 7.0, 7.0, 8.0], \"dtype\": \"float64\", \"shape\": [9]}], [{\"__ndarray__\": -1.0, \"dtype\": \"float64\", \"shape\": []}, {\"__ndarray__\": [0.0], \"dtype\": \"float64\", \"shape\": [1]}], [{\"__ndarray__\": -0.0, \"dtype\": \"float64\", \"shape\": []}, {\"__ndarray__\": [0.0, 1.0, 3.0, 3.0], \"dtype\": \"float64\", \"shape\": [4]}], [{\"__ndarray__\": -2.0000000000000084, \"dtype\": \"float64\", \"shape\": []}, {\"__ndarray__\": [0.0, 1.0, 2.0, 3.0, 4.0, 5.0, 8.0, 9.0, 13.0, 13.0, 10.0, 13.0, 13.0, 13.0], \"dtype\": \"float64\", \"shape\": [14]}], [{\"__ndarray__\": -0.0, \"dtype\": \"float64\", \"shape\": []}, {\"__ndarray__\": [0.0, 1.0, 2.0, 5.0, 4.0, 8.0, 9.0, 7.0, 8.0, 9.0], \"dtype\": \"float64\", \"shape\": [10]}], [{\"__ndarray__\": -17.000000000000004, \"dtype\": \"float64\", \"shape\": []}, {\"__ndarray__\": [0.0, 3.0, 3.0, 9.0, 4.0, 11.0, 6.0, 14.0, 13.0, 12.0, 13.0, 12.0, 13.0, 14.0, 14.0], \"dtype\": \"float64\", \"shape\": [15]}], [{\"__ndarray__\": -510.00000000000017, \"dtype\": \"float64\", \"shape\": []}, {\"__ndarray__\": [0.0, 1.0, 2.0, 5.0, 4.0, 7.0, 14.0, 12.0, 14.0, 13.0, 11.0, 14.0, 13.0, 14.0, 14.0], \"dtype\": \"float64\", \"shape\": [15]}], [{\"__ndarray__\": -1.0, \"dtype\": \"float64\", \"shape\": []}, {\"__ndarray__\": [2.0, 2.0, 2.0, 3.0], \"dtype\": \"float64\", \"shape\": [4]}], [{\"__ndarray__\": 26.99999999999999, \"dtype\": \"float64\", \"shape\": []}, {\"__ndarray__\": [1.0, 1.0, 4.0, 3.0, 4.0, 5.0, 6.0, 8.0, 8.0, 13.0, 13.0, 12.0, 13.0, 13.0], \"dtype\": \"float64\", \"shape\": [14]}], [{\"__ndarray__\": 0.0, \"dtype\": \"float64\", \"shape\": []}, {\"__ndarray__\": [0.0, 1.0, 3.0, 3.0, 4.0], \"dtype\": \"float64\", \"shape\": [5]}], [{\"__ndarray__\": 0.0, \"dtype\": \"float64\", \"shape\": []}, {\"__ndarray__\": [0.0, 1.0], \"dtype\": \"float64\", \"shape\": [2]}], [{\"__ndarray__\": -96.00000000000006, \"dtype\": \"float64\", \"shape\": []}, {\"__ndarray__\": [2.0, 2.0, 7.0, 3.0, 8.0, 13.0, 9.0, 10.0, 14.0, 14.0, 11.0, 11.0, 13.0, 13.0, 14.0], \"dtype\": \"float64\", \"shape\": [15]}], [{\"__ndarray__\": 108.00000000000013, \"dtype\": \"float64\", \"shape\": []}, {\"__ndarray__\": [0.0, 1.0, 2.0, 4.0, 4.0, 5.0, 7.0, 13.0, 10.0, 14.0, 10.0, 14.0, 16.0, 13.0, 14.0, 15.0, 16.0], \"dtype\": \"float64\", \"shape\": [17]}], [{\"__ndarray__\": -0.0, \"dtype\": \"float64\", \"shape\": []}, {\"__ndarray__\": [0.0, 2.0, 3.0, 3.0, 4.0], \"dtype\": \"float64\", \"shape\": [5]}], [{\"__ndarray__\": -0.0, \"dtype\": \"float64\", \"shape\": []}, {\"__ndarray__\": [0.0, 2.0, 2.0], \"dtype\": \"float64\", \"shape\": [3]}], [{\"__ndarray__\": 79.9999999999999, \"dtype\": \"float64\", \"shape\": []}, {\"__ndarray__\": [4.0, 2.0, 10.0, 5.0, 4.0, 8.0, 9.0, 9.0, 12.0, 10.0, 10.0, 14.0, 12.0, 14.0, 14.0], \"dtype\": \"float64\", \"shape\": [15]}], [{\"__ndarray__\": 9.0, \"dtype\": \"float64\", \"shape\": []}, {\"__ndarray__\": [2.0, 3.0, 2.0, 6.0, 4.0, 9.0, 7.0, 9.0, 9.0, 9.0], \"dtype\": \"float64\", \"shape\": [10]}], [{\"__ndarray__\": 888.9999999999983, \"dtype\": \"float64\", \"shape\": []}, {\"__ndarray__\": [4.0, 3.0, 10.0, 9.0, 7.0, 13.0, 7.0, 8.0, 16.0, 14.0, 14.0, 16.0, 13.0, 17.0, 17.0, 17.0, 17.0, 17.0], \"dtype\": \"float64\", \"shape\": [18]}], [{\"__ndarray__\": 184.00000000000003, \"dtype\": \"float64\", \"shape\": []}, {\"__ndarray__\": [2.0, 1.0, 2.0, 6.0, 4.0, 14.0, 13.0, 8.0, 15.0, 15.0, 10.0, 15.0, 15.0, 15.0, 14.0, 15.0], \"dtype\": \"float64\", \"shape\": [16]}], [{\"__ndarray__\": 2559.9999999999995, \"dtype\": \"float64\", \"shape\": []}, {\"__ndarray__\": [0.0, 2.0, 2.0, 3.0, 4.0, 11.0, 6.0, 11.0, 10.0, 9.0, 11.0, 14.0, 12.0, 17.0, 15.0, 16.0, 17.0, 17.0], \"dtype\": \"float64\", \"shape\": [18]}], [{\"__ndarray__\": 1.0, \"dtype\": \"float64\", \"shape\": []}, {\"__ndarray__\": [0.0, 2.0, 3.0, 6.0, 6.0, 7.0, 7.0, 7.0], \"dtype\": \"float64\", \"shape\": [8]}], [{\"__ndarray__\": 352.9999999999992, \"dtype\": \"float64\", \"shape\": []}, {\"__ndarray__\": [2.0, 2.0, 4.0, 16.0, 12.0, 13.0, 8.0, 13.0, 16.0, 17.0, 15.0, 15.0, 15.0, 15.0, 15.0, 15.0, 17.0, 17.0], \"dtype\": \"float64\", \"shape\": [18]}], [{\"__ndarray__\": -37.00000000000002, \"dtype\": \"float64\", \"shape\": []}, {\"__ndarray__\": [1.0, 1.0, 2.0, 10.0, 4.0, 5.0, 8.0, 7.0, 11.0, 13.0, 15.0, 16.0, 15.0, 14.0, 14.0, 16.0, 17.0, 17.0, 18.0], \"dtype\": \"float64\", \"shape\": [19]}], [{\"__ndarray__\": 48.0, \"dtype\": \"float64\", \"shape\": []}, {\"__ndarray__\": [1.0, 1.0, 4.0, 8.0, 6.0, 7.0, 7.0, 8.0, 10.0, 10.0, 12.0, 12.0, 12.0], \"dtype\": \"float64\", \"shape\": [13]}], [{\"__ndarray__\": 6.999999999999999, \"dtype\": \"float64\", \"shape\": []}, {\"__ndarray__\": [0.0, 1.0, 2.0, 5.0, 4.0, 7.0, 8.0, 11.0, 11.0, 11.0, 11.0, 11.0], \"dtype\": \"float64\", \"shape\": [12]}], [{\"__ndarray__\": 0.0, \"dtype\": \"float64\", \"shape\": []}, {\"__ndarray__\": [1.0, 2.0, 2.0, 5.0, 4.0, 5.0, 6.0, 7.0, 8.0], \"dtype\": \"float64\", \"shape\": [9]}], [{\"__ndarray__\": -1.0, \"dtype\": \"float64\", \"shape\": []}, {\"__ndarray__\": [2.0, 1.0, 3.0, 3.0, 4.0, 5.0], \"dtype\": \"float64\", \"shape\": [6]}], [{\"__ndarray__\": -2.9999999999999996, \"dtype\": \"float64\", \"shape\": []}, {\"__ndarray__\": [2.0, 1.0, 3.0, 6.0, 5.0, 6.0, 10.0, 7.0, 10.0, 10.0, 10.0, 12.0, 12.0], \"dtype\": \"float64\", \"shape\": [13]}], [{\"__ndarray__\": -1.0, \"dtype\": \"float64\", \"shape\": []}, {\"__ndarray__\": [0.0, 1.0, 4.0, 3.0, 4.0], \"dtype\": \"float64\", \"shape\": [5]}], [{\"__ndarray__\": -1199.9999999999993, \"dtype\": \"float64\", \"shape\": []}, {\"__ndarray__\": [0.0, 1.0, 2.0, 4.0, 6.0, 10.0, 6.0, 11.0, 10.0, 11.0, 12.0, 11.0, 12.0, 13.0, 14.0, 15.0], \"dtype\": \"float64\", \"shape\": [16]}], [{\"__ndarray__\": 8.881784197001252e-16, \"dtype\": \"float64\", \"shape\": []}, {\"__ndarray__\": [0.0, 2.0, 4.0, 3.0, 4.0, 7.0, 8.0, 8.0, 8.0, 12.0, 12.0, 11.0, 12.0], \"dtype\": \"float64\", \"shape\": [13]}], [{\"__ndarray__\": -4.0, \"dtype\": \"float64\", \"shape\": []}, {\"__ndarray__\": [5.0, 3.0, 9.0, 3.0, 5.0, 5.0, 7.0, 10.0, 8.0, 9.0, 10.0], \"dtype\": \"float64\", \"shape\": [11]}], [{\"__ndarray__\": -0.0, \"dtype\": \"float64\", \"shape\": []}, {\"__ndarray__\": [2.0, 2.0, 4.0, 4.0, 7.0, 6.0, 8.0, 7.0, 9.0, 9.0], \"dtype\": \"float64\", \"shape\": [10]}], [{\"__ndarray__\": -0.0, \"dtype\": \"float64\", \"shape\": []}, {\"__ndarray__\": [3.0, 2.0, 2.0, 5.0, 4.0, 6.0, 7.0, 7.0, 8.0], \"dtype\": \"float64\", \"shape\": [9]}], [{\"__ndarray__\": -0.0, \"dtype\": \"float64\", \"shape\": []}, {\"__ndarray__\": [0.0, 1.0], \"dtype\": \"float64\", \"shape\": [2]}], [{\"__ndarray__\": -0.0, \"dtype\": \"float64\", \"shape\": []}, {\"__ndarray__\": [2.0, 1.0, 2.0, 3.0], \"dtype\": \"float64\", \"shape\": [4]}], [{\"__ndarray__\": 0.0, \"dtype\": \"float64\", \"shape\": []}, {\"__ndarray__\": [0.0, 1.0, 5.0, 3.0, 5.0, 5.0], \"dtype\": \"float64\", \"shape\": [6]}], [{\"__ndarray__\": -2.9999999999999973, \"dtype\": \"float64\", \"shape\": []}, {\"__ndarray__\": [0.0, 1.0, 4.0, 5.0, 7.0, 7.0, 6.0, 7.0, 10.0, 13.0, 13.0, 11.0, 12.0, 13.0], \"dtype\": \"float64\", \"shape\": [14]}], [{\"__ndarray__\": -62.00000000000004, \"dtype\": \"float64\", \"shape\": []}, {\"__ndarray__\": [1.0, 5.0, 5.0, 4.0, 6.0, 8.0, 8.0, 9.0, 13.0, 12.0, 14.0, 11.0, 13.0, 14.0, 14.0], \"dtype\": \"float64\", \"shape\": [15]}], [{\"__ndarray__\": -1.0, \"dtype\": \"float64\", \"shape\": []}, {\"__ndarray__\": [5.0, 1.0, 2.0, 3.0, 5.0, 8.0, 9.0, 9.0, 8.0, 9.0], \"dtype\": \"float64\", \"shape\": [10]}], [{\"__ndarray__\": -0.0, \"dtype\": \"float64\", \"shape\": []}, {\"__ndarray__\": [0.0, 1.0, 2.0, 3.0], \"dtype\": \"float64\", \"shape\": [4]}], [{\"__ndarray__\": -1.0, \"dtype\": \"float64\", \"shape\": []}, {\"__ndarray__\": [0.0, 2.0, 3.0, 3.0, 4.0, 6.0, 7.0, 7.0], \"dtype\": \"float64\", \"shape\": [8]}], [{\"__ndarray__\": -0.0, \"dtype\": \"float64\", \"shape\": []}, {\"__ndarray__\": [0.0, 4.0, 7.0, 3.0, 4.0, 5.0, 8.0, 7.0, 8.0], \"dtype\": \"float64\", \"shape\": [9]}], [{\"__ndarray__\": 2.0, \"dtype\": \"float64\", \"shape\": []}, {\"__ndarray__\": [2.0, 1.0, 2.0, 3.0, 4.0, 5.0, 7.0, 7.0, 8.0], \"dtype\": \"float64\", \"shape\": [9]}], [{\"__ndarray__\": -4.0, \"dtype\": \"float64\", \"shape\": []}, {\"__ndarray__\": [3.0, 3.0, 2.0, 3.0, 5.0, 5.0, 6.0, 7.0], \"dtype\": \"float64\", \"shape\": [8]}], [{\"__ndarray__\": -6.000000000000001, \"dtype\": \"float64\", \"shape\": []}, {\"__ndarray__\": [2.0, 3.0, 2.0, 4.0, 10.0, 7.0, 10.0, 9.0, 9.0, 9.0, 10.0], \"dtype\": \"float64\", \"shape\": [11]}], [{\"__ndarray__\": -1.0, \"dtype\": \"float64\", \"shape\": []}, {\"__ndarray__\": [2.0, 3.0, 2.0, 4.0, 5.0, 5.0], \"dtype\": \"float64\", \"shape\": [6]}], [{\"__ndarray__\": -0.0, \"dtype\": \"float64\", \"shape\": []}, {\"__ndarray__\": [0.0, 1.0, 4.0, 5.0, 5.0, 5.0, 6.0], \"dtype\": \"float64\", \"shape\": [7]}]]}'"
      ]
     },
     "execution_count": 9,
     "metadata": {},
     "output_type": "execute_result"
    }
   ],
   "source": [
    "inputs = json_tricks.load('inputs/inputs.json')\n",
    "\n",
    "results = {'results': []}\n",
    "for args in inputs['inputs']:\n",
    "    res = determinant_fast(**args)\n",
    "    results['results'].append(res)\n",
    "\n",
    "json_tricks.dump(results, '.answer.json')\n"
   ]
  }
 ],
 "metadata": {
  "kernelspec": {
   "display_name": "Python 3",
   "language": "python",
   "name": "python3"
  },
  "language_info": {
   "codemirror_mode": {
    "name": "ipython",
    "version": 3
   },
   "file_extension": ".py",
   "mimetype": "text/x-python",
   "name": "python",
   "nbconvert_exporter": "python",
   "pygments_lexer": "ipython3",
   "version": "3.11.13"
  }
 },
 "nbformat": 4,
 "nbformat_minor": 2
}
