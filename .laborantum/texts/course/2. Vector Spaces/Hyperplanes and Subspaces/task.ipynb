{
    "cells": [
        {
            "cell_type": "code",
            "execution_count": 3,
            "id": "6f72d992",
            "metadata": {},
            "outputs": [],
            "source": [
                "import numpy as np\n",
                "import json_tricks\n",
                "\n",
                "\n",
                "inputs = json_tricks.load('inputs/inputs.json')\n",
                "answer = {}\n"
            ]
        },
        {
            "cell_type": "markdown",
            "id": "df6511fd",
            "metadata": {},
            "source": [
                "# Task"
            ],
            "outputs": []
        },
        {
            "cell_type": "markdown",
            "id": "b9f89b1e",
            "metadata": {},
            "source": [
                "You are given a linear hyperspace by 2 entities:\n",
                "- a vector that belongs to the hyperspace $\\mathbf x_0$\n",
                "- a normal vector to this hyperspace $\\mathbf w$\n",
                "\n",
                "So that the hyperplane is given by equation:\n",
                "\n",
                "$\\left<\\mathbf w, \\mathbf x - \\mathbf x_0\\right> = 0$\n",
                "\n",
                "You are also given another vector $\\mathbf y$. \n",
                "\n",
                "Find distance from this vector to the given hyperplane."
            ],
            "outputs": []
        },
        {
            "cell_type": "code",
            "execution_count": 4,
            "id": "6f14336b",
            "metadata": {},
            "outputs": [],
            "source": [
                "def distance_to_hyperplane_1(y, w, x0):\n",
                "    res = 0\n",
                "    ## YOUR CODE HERE\n",
                "    return res"
            ]
        },
        {
            "cell_type": "code",
            "execution_count": 5,
            "id": "2c3b30e3",
            "metadata": {},
            "outputs": [],
            "source": [
                "answer['task1'] = []\n",
                "for one_input in inputs['task1']:\n",
                "    answer['task1'].append(\n",
                "        distance_to_hyperplane_1(**one_input))"
            ]
        },
        {
            "cell_type": "markdown",
            "id": "d472a155",
            "metadata": {},
            "source": [
                "# Task"
            ],
            "outputs": []
        },
        {
            "cell_type": "markdown",
            "id": "21387b9f",
            "metadata": {},
            "source": [
                "You are given a linear hyperspace by 2 entities:\n",
                "- a vector that belongs to the hyperspace $\\mathbf x_0$\n",
                "- a set of direction vectors for this hyperspace $\\mathbf a_1, \\dots, \\mathbf a_K$ in form of column-matrix \n",
                "    \n",
                "    $A = \\begin{bmatrix}\n",
                "    | & | & & | \\\\\n",
                "    \\mathbf a_1 & \\mathbf a_2 & \\dots & \\mathbf a_K \\\\\n",
                "    | & | & & | \\\\\n",
                "    \\end{bmatrix}$\n",
                "\n",
                "So that the hyperplane is given by equation:\n",
                "\n",
                "$\\mathbf x_0 + \\sum_{k=1}^K \\alpha_k \\mathbf a_k = \\mathbf 0$\n",
                "\n",
                "You are also given another vector $\\mathbf y$. \n",
                "\n",
                "Find distance from this vector to the given hyperplane."
            ],
            "outputs": []
        },
        {
            "cell_type": "code",
            "execution_count": null,
            "id": "a1feed22",
            "metadata": {},
            "outputs": [],
            "source": [
                "def orthonormalization(X, eps=1.0e-8):\n",
                "    orthonormal_vectors = [] # will store orthonormal vector\n",
                "   \n",
                "    num_vectors = X.shape[1]\n",
                "    for v_num in range(num_vectors):\n",
                "        v = X[:, v_num]\n",
                "        # print(\"Original: \", v)\n",
                "\n",
                "        for orth_v in orthonormal_vectors:\n",
                "            v_proj = (v * orth_v).sum() * orth_v\n",
                "            v = v - v_proj\n",
                "\n",
                "        len_v = np.linalg.norm(v)\n",
                "        # len_v = np.sqrt(np.sum(v**2))\n",
                "        v = np.divide(v, len_v+eps)\n",
                "    \n",
                "        orthonormal_vectors.append(v)\n",
                "        # print(\"Orthonormal_vector: \", v)\n",
                "    \n",
                "    orthonormal_vectors = np.array(orthonormal_vectors).T\n",
                "\n",
                "    return orthonormal_vectors\n",
                "\n",
                "def distance_to_hyperplane_2(y, A, x0):\n",
                "    res = 0\n",
                "    # print(\"Y:\", y)\n",
                "    # print(\"A:\", A)\n",
                "    # print(\"x0:\", x0)\n",
                "\n",
                "    orthonormal_vectors = orthonormalization(A)\n",
                "    v = y - x0 # Find a vector that goes from x0 to y\n",
                "    # print(\"orth vecs\", orthonormal_vectors)\n",
                "    num_vectors = orthonormal_vectors.shape[1]\n",
                "    for v_num in range(num_vectors):\n",
                "        v_basis = orthonormal_vectors[:, v_num]\n",
                "\n",
                "        v_proj = np.dot(v, v_basis) * v_basis\n",
                "        v = v - v_proj\n",
                "\n",
                "    len_v = np.sqrt(np.sum(v**2))\n",
                "    # len_v = np.linalg.norm(v)\n",
                "\n",
                "    res = len_v\n",
                "    print(len_v)\n",
                "    return res\n",
                "\n",
                "def distance_to_hyperplane_2(y, A, x0):\n",
                "    res = 0\n",
                "    ## YOUR CODE HERE\n",
                "    print(res)\n",
                "    return res"
            ]
        },
        {
            "cell_type": "code",
            "execution_count": 26,
            "id": "0c2de6b6",
            "metadata": {},
            "outputs": [],
            "source": [
                "answer['task2'] = []\n",
                "for one_input in inputs['task2']:\n",
                "    answer['task2'].append(\n",
                "        distance_to_hyperplane_2(**one_input))"
            ]
        },
        {
            "cell_type": "markdown",
            "id": "18d1cd82",
            "metadata": {},
            "source": [
                "```\n",
                "33.73321645983316\n",
                "21.271746037577156\n",
                "39.37940008388848\n",
                "42.99759497346174\n",
                "25.914878077986074\n",
                "34.895216959050046\n",
                "23.210337633970852\n",
                "33.747895430521844\n",
                "13.80475984424122\n",
                "16.00473570351022\n",
                "44.00267669450884\n",
                "36.74460649448321\n",
                "20.88821669187017\n",
                "15.384825663508437\n",
                "28.270417860073987\n",
                "61.215331783816175\n",
                "48.25833702211857\n",
                "40.02929371092615\n",
                "45.00736118837824\n",
                "51.15898149941751\n",
                "39.6990330144248\n",
                "59.734662770504386\n",
                "25.54538981166952\n",
                "71.80043653810903\n",
                "22.982082354814235\n",
                "...\n",
                "42.04888905834207\n",
                "51.140234400466994\n",
                "29.39371832461045\n",
                "60.54882229683715\n",
                "```"
            ],
            "outputs": []
        },
        {
            "cell_type": "markdown",
            "id": "ecea6a3e",
            "metadata": {},
            "source": [
                "# Task"
            ],
            "outputs": []
        },
        {
            "cell_type": "markdown",
            "id": "db4d58c6",
            "metadata": {},
            "source": [
                "You are given 2 linear hyperspaces, each defined by 2 entities:\n",
                "- a vector that belongs to the hyperspace $\\mathbf x_0$\n",
                "- a set of direction vectors for this hyperspace $\\mathbf a_1, \\dots, \\mathbf a_K$ in form of column-matrix \n",
                "\n",
                "So that each of the hyperplanes is given by equation:\n",
                "\n",
                "$\\mathbf x_0 + \\sum_{k=1}^K \\alpha_k \\mathbf a_k = \\mathbf 0$\n",
                "\n",
                "Find distance between these hyperplanes."
            ],
            "outputs": []
        },
        {
            "cell_type": "code",
            "execution_count": 8,
            "id": "af62102a",
            "metadata": {},
            "outputs": [],
            "source": [
                "def distance_to_hyperplane_3(A, x0, B, y0):\n",
                "    res = 0\n",
                "    ## YOUR CODE HERE\n",
                "    return res"
            ]
        },
        {
            "cell_type": "code",
            "execution_count": 9,
            "id": "97fb9e0d",
            "metadata": {},
            "outputs": [],
            "source": [
                "answer['task3'] = []\n",
                "for one_input in inputs['task3']:\n",
                "    answer['task3'].append(\n",
                "        distance_to_hyperplane_3(**one_input))"
            ]
        },
        {
            "cell_type": "code",
            "execution_count": 10,
            "id": "3313eaf1",
            "metadata": {},
            "outputs": [],
            "source": [
                "json_tricks.dump(answer, '.answer.json')"
            ]
        }
    ],
    "metadata": {
        "kernelspec": {
            "display_name": "Python 3",
            "language": "python",
            "name": "python3"
        },
        "language_info": {
            "codemirror_mode": {
                "name": "ipython",
                "version": 3
            },
            "file_extension": ".py",
            "mimetype": "text/x-python",
            "name": "python",
            "nbconvert_exporter": "python",
            "pygments_lexer": "ipython3",
            "version": "3.11.12"
        }
    },
    "nbformat": 4,
    "nbformat_minor": 5
}